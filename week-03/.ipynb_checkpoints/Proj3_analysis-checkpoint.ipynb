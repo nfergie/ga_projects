{
 "cells": [
  {
   "cell_type": "markdown",
   "metadata": {},
   "source": [
    "# Getting started\n",
    "\n",
    "Once you've chosen your scenario, download the data from [the Iowa website](https://data.iowa.gov/Economy/Iowa-Liquor-Sales/m3tr-qhgy) in csv format. Start by loading the data with pandas. You may need to parse the date columns appropriately."
   ]
  },
  {
   "cell_type": "code",
   "execution_count": 1,
   "metadata": {
    "collapsed": false
   },
   "outputs": [
    {
     "data": {
      "text/html": [
       "<div>\n",
       "<table border=\"1\" class=\"dataframe\">\n",
       "  <thead>\n",
       "    <tr style=\"text-align: right;\">\n",
       "      <th></th>\n",
       "      <th>Store Number</th>\n",
       "      <th>City</th>\n",
       "      <th>2015 Sales</th>\n",
       "      <th>2015 Sales mean</th>\n",
       "      <th>County Number</th>\n",
       "      <th>Price per Liter mean</th>\n",
       "      <th>Zip Code</th>\n",
       "      <th>2015 Volume Sold (Liters)</th>\n",
       "      <th>2015 Volume Sold (Liters) mean</th>\n",
       "      <th>2015 Margin mean</th>\n",
       "      <th>2015 Sales Q1</th>\n",
       "      <th>2016 Sales Q1</th>\n",
       "      <th>First Date</th>\n",
       "      <th>Last Date</th>\n",
       "    </tr>\n",
       "  </thead>\n",
       "  <tbody>\n",
       "    <tr>\n",
       "      <th>0</th>\n",
       "      <td>2106</td>\n",
       "      <td>CEDAR FALLS</td>\n",
       "      <td>146326.22</td>\n",
       "      <td>277.658861</td>\n",
       "      <td>7</td>\n",
       "      <td>17.856601</td>\n",
       "      <td>50613</td>\n",
       "      <td>9731.85</td>\n",
       "      <td>18.466509</td>\n",
       "      <td>92.671879</td>\n",
       "      <td>39287.29</td>\n",
       "      <td>30523.75</td>\n",
       "      <td>2015-01-08</td>\n",
       "      <td>2016-03-31</td>\n",
       "    </tr>\n",
       "    <tr>\n",
       "      <th>1</th>\n",
       "      <td>2113</td>\n",
       "      <td>GOWRIE</td>\n",
       "      <td>9310.22</td>\n",
       "      <td>63.334830</td>\n",
       "      <td>94</td>\n",
       "      <td>18.507700</td>\n",
       "      <td>50543</td>\n",
       "      <td>659.85</td>\n",
       "      <td>4.488776</td>\n",
       "      <td>21.149932</td>\n",
       "      <td>2833.25</td>\n",
       "      <td>2065.90</td>\n",
       "      <td>2015-01-07</td>\n",
       "      <td>2016-03-23</td>\n",
       "    </tr>\n",
       "    <tr>\n",
       "      <th>2</th>\n",
       "      <td>2130</td>\n",
       "      <td>WATERLOO</td>\n",
       "      <td>111871.43</td>\n",
       "      <td>285.386301</td>\n",
       "      <td>7</td>\n",
       "      <td>16.835809</td>\n",
       "      <td>50703</td>\n",
       "      <td>6891.37</td>\n",
       "      <td>17.580026</td>\n",
       "      <td>95.217347</td>\n",
       "      <td>24272.57</td>\n",
       "      <td>27856.11</td>\n",
       "      <td>2015-01-08</td>\n",
       "      <td>2016-03-31</td>\n",
       "    </tr>\n",
       "    <tr>\n",
       "      <th>3</th>\n",
       "      <td>2152</td>\n",
       "      <td>ROCKWELL</td>\n",
       "      <td>7721.08</td>\n",
       "      <td>54.759433</td>\n",
       "      <td>17</td>\n",
       "      <td>13.020765</td>\n",
       "      <td>50469</td>\n",
       "      <td>633.37</td>\n",
       "      <td>4.491986</td>\n",
       "      <td>18.351277</td>\n",
       "      <td>2003.46</td>\n",
       "      <td>904.66</td>\n",
       "      <td>2015-01-08</td>\n",
       "      <td>2016-02-25</td>\n",
       "    </tr>\n",
       "    <tr>\n",
       "      <th>4</th>\n",
       "      <td>2178</td>\n",
       "      <td>WAUKON</td>\n",
       "      <td>24324.18</td>\n",
       "      <td>102.633671</td>\n",
       "      <td>3</td>\n",
       "      <td>16.053844</td>\n",
       "      <td>52172</td>\n",
       "      <td>1917.12</td>\n",
       "      <td>8.089114</td>\n",
       "      <td>34.454430</td>\n",
       "      <td>5856.41</td>\n",
       "      <td>5588.50</td>\n",
       "      <td>2015-01-07</td>\n",
       "      <td>2016-03-30</td>\n",
       "    </tr>\n",
       "  </tbody>\n",
       "</table>\n",
       "</div>"
      ],
      "text/plain": [
       "   Store Number         City  2015 Sales  2015 Sales mean  County Number  \\\n",
       "0          2106  CEDAR FALLS   146326.22       277.658861              7   \n",
       "1          2113       GOWRIE     9310.22        63.334830             94   \n",
       "2          2130     WATERLOO   111871.43       285.386301              7   \n",
       "3          2152     ROCKWELL     7721.08        54.759433             17   \n",
       "4          2178       WAUKON    24324.18       102.633671              3   \n",
       "\n",
       "   Price per Liter mean Zip Code  2015 Volume Sold (Liters)  \\\n",
       "0             17.856601    50613                    9731.85   \n",
       "1             18.507700    50543                     659.85   \n",
       "2             16.835809    50703                    6891.37   \n",
       "3             13.020765    50469                     633.37   \n",
       "4             16.053844    52172                    1917.12   \n",
       "\n",
       "   2015 Volume Sold (Liters) mean  2015 Margin mean  2015 Sales Q1  \\\n",
       "0                       18.466509         92.671879       39287.29   \n",
       "1                        4.488776         21.149932        2833.25   \n",
       "2                       17.580026         95.217347       24272.57   \n",
       "3                        4.491986         18.351277        2003.46   \n",
       "4                        8.089114         34.454430        5856.41   \n",
       "\n",
       "   2016 Sales Q1  First Date   Last Date  \n",
       "0       30523.75  2015-01-08  2016-03-31  \n",
       "1        2065.90  2015-01-07  2016-03-23  \n",
       "2       27856.11  2015-01-08  2016-03-31  \n",
       "3         904.66  2015-01-08  2016-02-25  \n",
       "4        5588.50  2015-01-07  2016-03-30  "
      ]
     },
     "execution_count": 1,
     "metadata": {},
     "output_type": "execute_result"
    }
   ],
   "source": [
    "import numpy as np\n",
    "import seaborn as sns\n",
    "import matplotlib.pyplot as plt\n",
    "import pandas as pd\n",
    "%matplotlib inline\n",
    "from sklearn import linear_model\n",
    "from sklearn.cross_validation import train_test_split\n",
    "\n",
    "df = pd.read_csv('/Users/nfergie/Downloads/sales2.csv', index_col=0)\n",
    "\n",
    "df.head()"
   ]
  },
  {
   "cell_type": "code",
   "execution_count": null,
   "metadata": {
    "collapsed": true
   },
   "outputs": [],
   "source": []
  },
  {
   "cell_type": "markdown",
   "metadata": {},
   "source": [
    "# Explore the data\n",
    "\n",
    "Perform some exploratory statistical analysis and make some plots, such as histograms of transaction totals, bottles sold, etc."
   ]
  },
  {
   "cell_type": "code",
   "execution_count": 2,
   "metadata": {
    "collapsed": false
   },
   "outputs": [
    {
     "data": {
      "image/png": "[encoded data removed]",
      "text/plain": [
       "<matplotlib.figure.Figure at 0x11c554cd0>"
      ]
     },
     "metadata": {},
     "output_type": "display_data"
    }
   ],
   "source": [
    "# Single County\n",
    "data = df[df[\"County Number\"] == 7][\"2015 Sales Q1\"]\n",
    "plt.hist(data, bins=40)\n",
    "plt.show()"
   ]
  },
  {
   "cell_type": "code",
   "execution_count": 3,
   "metadata": {
    "collapsed": false
   },
   "outputs": [
    {
     "data": {
      "image/png": "[encoded data removed]",
      "text/plain": [
       "<matplotlib.figure.Figure at 0x11c554d10>"
      ]
     },
     "metadata": {},
     "output_type": "display_data"
    }
   ],
   "source": [
    "plt.hist(df['2015 Sales Q1'])\n",
    "plt.show()"
   ]
  },
  {
   "cell_type": "code",
   "execution_count": 4,
   "metadata": {
    "collapsed": false
   },
   "outputs": [
    {
     "data": {
      "text/plain": [
       "<matplotlib.axes._subplots.AxesSubplot at 0x11c554c90>"
      ]
     },
     "execution_count": 4,
     "metadata": {},
     "output_type": "execute_result"
    },
    {
     "data": {
      "image/png": "[encoded data removed]",
      "text/plain": [
       "<matplotlib.figure.Figure at 0x11f070350>"
      ]
     },
     "metadata": {},
     "output_type": "display_data"
    }
   ],
   "source": [
    "# Max per county, could do medians or violin plots, or many variations\n",
    "pcount = df.groupby(by=[\"County Number\"], as_index=False)\n",
    "pcount = pcount.agg({\"2015 Sales\": np.max})\n",
    "pcount.plot.scatter(x=\"County Number\", y=\"2015 Sales\")"
   ]
  },
  {
   "cell_type": "markdown",
   "metadata": {},
   "source": [
    "## Record your findings\n",
    "\n",
    "Be sure to write out anything observations from your exploratory analysis."
   ]
  },
  {
   "cell_type": "markdown",
   "metadata": {},
   "source": [
    "# Mine the data\n",
    "Now you are ready to compute the variables you will use for your regression from the data. For example, you may want to\n",
    "compute total sales per store from Jan to March of 2015, mean price per bottle, etc. Refer to the readme for more ideas appropriate to your scenario.\n",
    "\n",
    "Pandas is your friend for this task. Take a look at the operations [here](http://pandas.pydata.org/pandas-docs/stable/groupby.html) for ideas on how to make the best use of pandas and feel free to search for blog and Stack Overflow posts to help you group data by certain variables and compute sums, means, etc. You may find it useful to create a new data frame to house this summary data."
   ]
  },
  {
   "cell_type": "markdown",
   "metadata": {},
   "source": [
    "# Refine the data\n",
    "Look for any statistical relationships, correlations, or other relevant properties of the dataset."
   ]
  },
  {
   "cell_type": "code",
   "execution_count": 5,
   "metadata": {
    "collapsed": false
   },
   "outputs": [
    {
     "data": {
      "text/plain": [
       "(0, 50000)"
      ]
     },
     "execution_count": 5,
     "metadata": {},
     "output_type": "execute_result"
    },
    {
     "data": {
      "image/png": "[encoded data removed]",
      "text/plain": [
       "<matplotlib.figure.Figure at 0x11f0d7dd0>"
      ]
     },
     "metadata": {},
     "output_type": "display_data"
    }
   ],
   "source": [
    "df.plot(kind='scatter', x=\"2015 Sales Q1\", y=\"2016 Sales Q1\");\n",
    "plt.xlim(0, 50000)\n",
    "plt.ylim(0, 50000)"
   ]
  },
  {
   "cell_type": "markdown",
   "metadata": {},
   "source": [
    "# Build your models\n",
    "\n",
    "Using scikit-learn or statsmodels, build the necessary models for your scenario. Evaluate model fit."
   ]
  },
  {
   "cell_type": "code",
   "execution_count": 6,
   "metadata": {
    "collapsed": true
   },
   "outputs": [],
   "source": [
    "# Model based on store number"
   ]
  },
  {
   "cell_type": "code",
   "execution_count": 7,
   "metadata": {
    "collapsed": false
   },
   "outputs": [],
   "source": [
    "X = df[['Store Number', 'Price per Liter mean', '2015 Volume Sold (Liters) mean']]\n",
    "y = df['2015 Sales mean']"
   ]
  },
  {
   "cell_type": "code",
   "execution_count": 8,
   "metadata": {
    "collapsed": false
   },
   "outputs": [],
   "source": [
    "X_train, X_test, y_train, y_test = train_test_split(X, y, test_size=0.33, random_state=42)\n",
    "regr = linear_model.LinearRegression()\n",
    "model = regr.fit(X_train, y_train)"
   ]
  },
  {
   "cell_type": "code",
   "execution_count": 9,
   "metadata": {
    "collapsed": false
   },
   "outputs": [
    {
     "name": "stdout",
     "output_type": "stream",
     "text": [
      "Score: 0.867584019866\n"
     ]
    }
   ],
   "source": [
    "pred = regr.predict(X_test)\n",
    "print \"Score:\", model.score(X_test, y_test)"
   ]
  },
  {
   "cell_type": "code",
   "execution_count": 10,
   "metadata": {
    "collapsed": false
   },
   "outputs": [
    {
     "data": {
      "text/plain": [
       "<matplotlib.text.Text at 0x11f61d390>"
      ]
     },
     "execution_count": 10,
     "metadata": {},
     "output_type": "execute_result"
    },
    {
     "data": {
      "image/png": "[encoded data removed]",
      "text/plain": [
       "<matplotlib.figure.Figure at 0x11f388ad0>"
      ]
     },
     "metadata": {},
     "output_type": "display_data"
    }
   ],
   "source": [
    "plt.scatter(y_test, pred)\n",
    "plt.xlabel(\"True Values\")\n",
    "plt.ylabel(\"Predictions\")"
   ]
  },
  {
   "cell_type": "code",
   "execution_count": 11,
   "metadata": {
    "collapsed": true
   },
   "outputs": [],
   "source": [
    "# model based on county number"
   ]
  },
  {
   "cell_type": "code",
   "execution_count": 12,
   "metadata": {
    "collapsed": false
   },
   "outputs": [],
   "source": [
    "df2 = df.groupby(by=[\"County Number\"], as_index=False)[\"2015 Sales mean\"].mean()\n",
    "df3 =df.groupby(by = ['County Number'], as_index = False)['Price per Liter mean'].mean()\n",
    "df4 = df.groupby(by = ['County Number'], as_index = False)['2015 Volume Sold (Liters) mean'].mean()"
   ]
  },
  {
   "cell_type": "code",
   "execution_count": 13,
   "metadata": {
    "collapsed": false
   },
   "outputs": [],
   "source": [
    "result = pd.merge(df2, df3, on='County Number')\n",
    "result = pd.merge(result, df4, on= 'County Number')"
   ]
  },
  {
   "cell_type": "code",
   "execution_count": 14,
   "metadata": {
    "collapsed": false
   },
   "outputs": [
    {
     "data": {
      "text/html": [
       "<div>\n",
       "<table border=\"1\" class=\"dataframe\">\n",
       "  <thead>\n",
       "    <tr style=\"text-align: right;\">\n",
       "      <th></th>\n",
       "      <th>County Number</th>\n",
       "      <th>2015 Sales mean</th>\n",
       "      <th>Price per Liter mean</th>\n",
       "      <th>2015 Volume Sold (Liters) mean</th>\n",
       "    </tr>\n",
       "  </thead>\n",
       "  <tbody>\n",
       "    <tr>\n",
       "      <th>0</th>\n",
       "      <td>1</td>\n",
       "      <td>109.751892</td>\n",
       "      <td>15.904001</td>\n",
       "      <td>8.252238</td>\n",
       "    </tr>\n",
       "    <tr>\n",
       "      <th>1</th>\n",
       "      <td>2</td>\n",
       "      <td>54.207090</td>\n",
       "      <td>17.324104</td>\n",
       "      <td>4.350688</td>\n",
       "    </tr>\n",
       "    <tr>\n",
       "      <th>2</th>\n",
       "      <td>3</td>\n",
       "      <td>92.272629</td>\n",
       "      <td>15.249506</td>\n",
       "      <td>7.661609</td>\n",
       "    </tr>\n",
       "    <tr>\n",
       "      <th>3</th>\n",
       "      <td>4</td>\n",
       "      <td>98.015123</td>\n",
       "      <td>16.166711</td>\n",
       "      <td>7.335080</td>\n",
       "    </tr>\n",
       "    <tr>\n",
       "      <th>4</th>\n",
       "      <td>5</td>\n",
       "      <td>151.035789</td>\n",
       "      <td>11.757268</td>\n",
       "      <td>14.368421</td>\n",
       "    </tr>\n",
       "  </tbody>\n",
       "</table>\n",
       "</div>"
      ],
      "text/plain": [
       "   County Number  2015 Sales mean  Price per Liter mean  \\\n",
       "0              1       109.751892             15.904001   \n",
       "1              2        54.207090             17.324104   \n",
       "2              3        92.272629             15.249506   \n",
       "3              4        98.015123             16.166711   \n",
       "4              5       151.035789             11.757268   \n",
       "\n",
       "   2015 Volume Sold (Liters) mean  \n",
       "0                        8.252238  \n",
       "1                        4.350688  \n",
       "2                        7.661609  \n",
       "3                        7.335080  \n",
       "4                       14.368421  "
      ]
     },
     "execution_count": 14,
     "metadata": {},
     "output_type": "execute_result"
    }
   ],
   "source": [
    "result.head()"
   ]
  },
  {
   "cell_type": "code",
   "execution_count": 15,
   "metadata": {
    "collapsed": false
   },
   "outputs": [],
   "source": [
    "X = result[['County Number', 'Price per Liter mean', '2015 Volume Sold (Liters) mean']]\n",
    "y = result['2015 Sales mean']"
   ]
  },
  {
   "cell_type": "code",
   "execution_count": 16,
   "metadata": {
    "collapsed": true
   },
   "outputs": [],
   "source": [
    "X_train, X_test, y_train, y_test = train_test_split(X, y, test_size=0.33, random_state=42)\n",
    "regr = linear_model.LinearRegression()\n",
    "model = regr.fit(X_train, y_train)"
   ]
  },
  {
   "cell_type": "code",
   "execution_count": 17,
   "metadata": {
    "collapsed": false
   },
   "outputs": [
    {
     "name": "stdout",
     "output_type": "stream",
     "text": [
      "Score: 0.928665592862\n"
     ]
    }
   ],
   "source": [
    "pred = regr.predict(X_test)\n",
    "print \"Score:\", model.score(X_test, y_test)"
   ]
  },
  {
   "cell_type": "code",
   "execution_count": 18,
   "metadata": {
    "collapsed": false
   },
   "outputs": [
    {
     "data": {
      "text/plain": [
       "<matplotlib.text.Text at 0x118a68350>"
      ]
     },
     "execution_count": 18,
     "metadata": {},
     "output_type": "execute_result"
    },
    {
     "data": {
      "image/png": "[encoded data removed]",
      "text/plain": [
       "<matplotlib.figure.Figure at 0x11f0ee590>"
      ]
     },
     "metadata": {},
     "output_type": "display_data"
    }
   ],
   "source": [
    "plt.scatter(y_test, pred)\n",
    "plt.xlabel(\"True Values\")\n",
    "plt.ylabel(\"Predictions\")"
   ]
  },
  {
   "cell_type": "code",
   "execution_count": null,
   "metadata": {
    "collapsed": false
   },
   "outputs": [],
   "source": []
  },
  {
   "cell_type": "code",
   "execution_count": 19,
   "metadata": {
    "collapsed": true
   },
   "outputs": [],
   "source": [
    "# model based on zip code"
   ]
  },
  {
   "cell_type": "code",
   "execution_count": 20,
   "metadata": {
    "collapsed": false
   },
   "outputs": [],
   "source": [
    "df2 = df.groupby(by=[\"Zip Code\"], as_index=False)[\"2015 Sales mean\"].mean()\n",
    "df3 =df.groupby(by = ['Zip Code'], as_index = False)['Price per Liter mean'].mean()\n",
    "df4 = df.groupby(by = ['Zip Code'], as_index = False)['2015 Volume Sold (Liters) mean'].mean()"
   ]
  },
  {
   "cell_type": "code",
   "execution_count": 21,
   "metadata": {
    "collapsed": false
   },
   "outputs": [],
   "source": [
    "result = pd.merge(df2, df3, on='Zip Code')\n",
    "result = pd.merge(result, df4, on= 'Zip Code')"
   ]
  },
  {
   "cell_type": "code",
   "execution_count": 22,
   "metadata": {
    "collapsed": false
   },
   "outputs": [
    {
     "data": {
      "text/html": [
       "<div>\n",
       "<table border=\"1\" class=\"dataframe\">\n",
       "  <thead>\n",
       "    <tr style=\"text-align: right;\">\n",
       "      <th></th>\n",
       "      <th>Zip Code</th>\n",
       "      <th>2015 Sales mean</th>\n",
       "      <th>Price per Liter mean</th>\n",
       "      <th>2015 Volume Sold (Liters) mean</th>\n",
       "    </tr>\n",
       "  </thead>\n",
       "  <tbody>\n",
       "    <tr>\n",
       "      <th>0</th>\n",
       "      <td>50002</td>\n",
       "      <td>129.295865</td>\n",
       "      <td>16.334449</td>\n",
       "      <td>8.950962</td>\n",
       "    </tr>\n",
       "    <tr>\n",
       "      <th>1</th>\n",
       "      <td>50003</td>\n",
       "      <td>136.528786</td>\n",
       "      <td>15.009619</td>\n",
       "      <td>10.458894</td>\n",
       "    </tr>\n",
       "    <tr>\n",
       "      <th>2</th>\n",
       "      <td>50006</td>\n",
       "      <td>99.250659</td>\n",
       "      <td>16.581137</td>\n",
       "      <td>6.914725</td>\n",
       "    </tr>\n",
       "    <tr>\n",
       "      <th>3</th>\n",
       "      <td>50009</td>\n",
       "      <td>164.469586</td>\n",
       "      <td>18.717742</td>\n",
       "      <td>10.726930</td>\n",
       "    </tr>\n",
       "    <tr>\n",
       "      <th>4</th>\n",
       "      <td>50010</td>\n",
       "      <td>143.129883</td>\n",
       "      <td>17.778504</td>\n",
       "      <td>10.385253</td>\n",
       "    </tr>\n",
       "  </tbody>\n",
       "</table>\n",
       "</div>"
      ],
      "text/plain": [
       "  Zip Code  2015 Sales mean  Price per Liter mean  \\\n",
       "0    50002       129.295865             16.334449   \n",
       "1    50003       136.528786             15.009619   \n",
       "2    50006        99.250659             16.581137   \n",
       "3    50009       164.469586             18.717742   \n",
       "4    50010       143.129883             17.778504   \n",
       "\n",
       "   2015 Volume Sold (Liters) mean  \n",
       "0                        8.950962  \n",
       "1                       10.458894  \n",
       "2                        6.914725  \n",
       "3                       10.726930  \n",
       "4                       10.385253  "
      ]
     },
     "execution_count": 22,
     "metadata": {},
     "output_type": "execute_result"
    }
   ],
   "source": [
    "result.head()"
   ]
  },
  {
   "cell_type": "code",
   "execution_count": 23,
   "metadata": {
    "collapsed": true
   },
   "outputs": [],
   "source": [
    "result = result[result['Zip Code'] != '712-2']"
   ]
  },
  {
   "cell_type": "code",
   "execution_count": 24,
   "metadata": {
    "collapsed": false
   },
   "outputs": [],
   "source": [
    "X = result[['Zip Code', 'Price per Liter mean', '2015 Volume Sold (Liters) mean']]\n",
    "y = result['2015 Sales mean']"
   ]
  },
  {
   "cell_type": "code",
   "execution_count": 25,
   "metadata": {
    "collapsed": false
   },
   "outputs": [],
   "source": [
    "X_train, X_test, y_train, y_test = train_test_split(X, y, test_size=0.33, random_state=42)\n",
    "regr = linear_model.LinearRegression()\n",
    "model = regr.fit(X_train, y_train)"
   ]
  },
  {
   "cell_type": "code",
   "execution_count": 26,
   "metadata": {
    "collapsed": false
   },
   "outputs": [
    {
     "name": "stdout",
     "output_type": "stream",
     "text": [
      "Score: 0.875172850279\n"
     ]
    }
   ],
   "source": [
    "pred = regr.predict(X_test)\n",
    "print \"Score:\", model.score(X_test, y_test)"
   ]
  },
  {
   "cell_type": "code",
   "execution_count": 27,
   "metadata": {
    "collapsed": false
   },
   "outputs": [
    {
     "data": {
      "text/plain": [
       "<matplotlib.text.Text at 0x11f48e4d0>"
      ]
     },
     "execution_count": 27,
     "metadata": {},
     "output_type": "execute_result"
    },
    {
     "data": {
      "image/png": "[encoded data removed]",
      "text/plain": [
       "<matplotlib.figure.Figure at 0x11f60c810>"
      ]
     },
     "metadata": {},
     "output_type": "display_data"
    }
   ],
   "source": [
    "plt.scatter(y_test, pred)\n",
    "plt.xlabel(\"True Values\")\n",
    "plt.ylabel(\"Predictions\")"
   ]
  },
  {
   "cell_type": "code",
   "execution_count": 28,
   "metadata": {
    "collapsed": false
   },
   "outputs": [],
   "source": [
    "# model based on city"
   ]
  },
  {
   "cell_type": "code",
   "execution_count": 29,
   "metadata": {
    "collapsed": true
   },
   "outputs": [],
   "source": [
    "df2 = df.groupby(by=['City'], as_index=False)[\"2015 Sales mean\"].mean()\n",
    "df3 =df.groupby(by = ['City'], as_index = False)['Price per Liter mean'].mean()\n",
    "df4 = df.groupby(by = ['City'], as_index = False)['2015 Volume Sold (Liters) mean'].mean()"
   ]
  },
  {
   "cell_type": "code",
   "execution_count": 30,
   "metadata": {
    "collapsed": true
   },
   "outputs": [],
   "source": [
    "result = pd.merge(df2, df3, on='City')\n",
    "result = pd.merge(result, df4, on= 'City')"
   ]
  },
  {
   "cell_type": "code",
   "execution_count": 31,
   "metadata": {
    "collapsed": false
   },
   "outputs": [
    {
     "data": {
      "text/html": [
       "<div>\n",
       "<table border=\"1\" class=\"dataframe\">\n",
       "  <thead>\n",
       "    <tr style=\"text-align: right;\">\n",
       "      <th></th>\n",
       "      <th>City</th>\n",
       "      <th>2015 Sales mean</th>\n",
       "      <th>Price per Liter mean</th>\n",
       "      <th>2015 Volume Sold (Liters) mean</th>\n",
       "    </tr>\n",
       "  </thead>\n",
       "  <tbody>\n",
       "    <tr>\n",
       "      <th>0</th>\n",
       "      <td>ACKLEY</td>\n",
       "      <td>78.253852</td>\n",
       "      <td>16.165579</td>\n",
       "      <td>6.730567</td>\n",
       "    </tr>\n",
       "    <tr>\n",
       "      <th>1</th>\n",
       "      <td>ADAIR</td>\n",
       "      <td>129.295865</td>\n",
       "      <td>16.334449</td>\n",
       "      <td>8.950962</td>\n",
       "    </tr>\n",
       "    <tr>\n",
       "      <th>2</th>\n",
       "      <td>ADEL</td>\n",
       "      <td>136.528786</td>\n",
       "      <td>15.009619</td>\n",
       "      <td>10.458894</td>\n",
       "    </tr>\n",
       "    <tr>\n",
       "      <th>3</th>\n",
       "      <td>AFTON</td>\n",
       "      <td>272.376000</td>\n",
       "      <td>18.366286</td>\n",
       "      <td>21.450000</td>\n",
       "    </tr>\n",
       "    <tr>\n",
       "      <th>4</th>\n",
       "      <td>AKRON</td>\n",
       "      <td>77.058750</td>\n",
       "      <td>17.007670</td>\n",
       "      <td>6.131786</td>\n",
       "    </tr>\n",
       "  </tbody>\n",
       "</table>\n",
       "</div>"
      ],
      "text/plain": [
       "     City  2015 Sales mean  Price per Liter mean  \\\n",
       "0  ACKLEY        78.253852             16.165579   \n",
       "1   ADAIR       129.295865             16.334449   \n",
       "2    ADEL       136.528786             15.009619   \n",
       "3   AFTON       272.376000             18.366286   \n",
       "4   AKRON        77.058750             17.007670   \n",
       "\n",
       "   2015 Volume Sold (Liters) mean  \n",
       "0                        6.730567  \n",
       "1                        8.950962  \n",
       "2                       10.458894  \n",
       "3                       21.450000  \n",
       "4                        6.131786  "
      ]
     },
     "execution_count": 31,
     "metadata": {},
     "output_type": "execute_result"
    }
   ],
   "source": [
    "result.head()"
   ]
  },
  {
   "cell_type": "code",
   "execution_count": 32,
   "metadata": {
    "collapsed": false
   },
   "outputs": [],
   "source": [
    "l = [i for i in range(0, len(result['City']))]\n",
    "se = pd.Series(l)\n",
    "result['City num'] = se.values"
   ]
  },
  {
   "cell_type": "code",
   "execution_count": 33,
   "metadata": {
    "collapsed": false,
    "scrolled": true
   },
   "outputs": [
    {
     "data": {
      "text/html": [
       "<div>\n",
       "<table border=\"1\" class=\"dataframe\">\n",
       "  <thead>\n",
       "    <tr style=\"text-align: right;\">\n",
       "      <th></th>\n",
       "      <th>City</th>\n",
       "      <th>2015 Sales mean</th>\n",
       "      <th>Price per Liter mean</th>\n",
       "      <th>2015 Volume Sold (Liters) mean</th>\n",
       "      <th>City num</th>\n",
       "    </tr>\n",
       "  </thead>\n",
       "  <tbody>\n",
       "    <tr>\n",
       "      <th>0</th>\n",
       "      <td>ACKLEY</td>\n",
       "      <td>78.253852</td>\n",
       "      <td>16.165579</td>\n",
       "      <td>6.730567</td>\n",
       "      <td>0</td>\n",
       "    </tr>\n",
       "    <tr>\n",
       "      <th>1</th>\n",
       "      <td>ADAIR</td>\n",
       "      <td>129.295865</td>\n",
       "      <td>16.334449</td>\n",
       "      <td>8.950962</td>\n",
       "      <td>1</td>\n",
       "    </tr>\n",
       "    <tr>\n",
       "      <th>2</th>\n",
       "      <td>ADEL</td>\n",
       "      <td>136.528786</td>\n",
       "      <td>15.009619</td>\n",
       "      <td>10.458894</td>\n",
       "      <td>2</td>\n",
       "    </tr>\n",
       "    <tr>\n",
       "      <th>3</th>\n",
       "      <td>AFTON</td>\n",
       "      <td>272.376000</td>\n",
       "      <td>18.366286</td>\n",
       "      <td>21.450000</td>\n",
       "      <td>3</td>\n",
       "    </tr>\n",
       "    <tr>\n",
       "      <th>4</th>\n",
       "      <td>AKRON</td>\n",
       "      <td>77.058750</td>\n",
       "      <td>17.007670</td>\n",
       "      <td>6.131786</td>\n",
       "      <td>4</td>\n",
       "    </tr>\n",
       "  </tbody>\n",
       "</table>\n",
       "</div>"
      ],
      "text/plain": [
       "     City  2015 Sales mean  Price per Liter mean  \\\n",
       "0  ACKLEY        78.253852             16.165579   \n",
       "1   ADAIR       129.295865             16.334449   \n",
       "2    ADEL       136.528786             15.009619   \n",
       "3   AFTON       272.376000             18.366286   \n",
       "4   AKRON        77.058750             17.007670   \n",
       "\n",
       "   2015 Volume Sold (Liters) mean  City num  \n",
       "0                        6.730567         0  \n",
       "1                        8.950962         1  \n",
       "2                       10.458894         2  \n",
       "3                       21.450000         3  \n",
       "4                        6.131786         4  "
      ]
     },
     "execution_count": 33,
     "metadata": {},
     "output_type": "execute_result"
    }
   ],
   "source": [
    "result.head()"
   ]
  },
  {
   "cell_type": "code",
   "execution_count": null,
   "metadata": {
    "collapsed": true
   },
   "outputs": [],
   "source": []
  },
  {
   "cell_type": "code",
   "execution_count": null,
   "metadata": {
    "collapsed": true
   },
   "outputs": [],
   "source": []
  },
  {
   "cell_type": "code",
   "execution_count": 34,
   "metadata": {
    "collapsed": true
   },
   "outputs": [],
   "source": [
    "X = result[['City num', 'Price per Liter mean', '2015 Volume Sold (Liters) mean']]\n",
    "y = result['2015 Sales mean']"
   ]
  },
  {
   "cell_type": "code",
   "execution_count": 35,
   "metadata": {
    "collapsed": false
   },
   "outputs": [],
   "source": [
    "X_train, X_test, y_train, y_test = train_test_split(X, y, test_size=0.33, random_state=42)\n",
    "regr = linear_model.LinearRegression()\n",
    "model = regr.fit(X_train, y_train)"
   ]
  },
  {
   "cell_type": "code",
   "execution_count": 36,
   "metadata": {
    "collapsed": false
   },
   "outputs": [
    {
     "name": "stdout",
     "output_type": "stream",
     "text": [
      "Score: 0.794828685521\n"
     ]
    }
   ],
   "source": [
    "pred = regr.predict(X_test)\n",
    "print \"Score:\", model.score(X_test, y_test)"
   ]
  },
  {
   "cell_type": "code",
   "execution_count": 37,
   "metadata": {
    "collapsed": false
   },
   "outputs": [
    {
     "data": {
      "text/plain": [
       "<matplotlib.text.Text at 0x11f144b90>"
      ]
     },
     "execution_count": 37,
     "metadata": {},
     "output_type": "execute_result"
    },
    {
     "data": {
      "image/png": "[encoded data removed]",
      "text/plain": [
       "<matplotlib.figure.Figure at 0x118ac8cd0>"
      ]
     },
     "metadata": {},
     "output_type": "display_data"
    }
   ],
   "source": [
    "plt.scatter(y_test, pred)\n",
    "plt.xlabel(\"True Values\")\n",
    "plt.ylabel(\"Predictions\")"
   ]
  },
  {
   "cell_type": "markdown",
   "metadata": {},
   "source": [
    "## Plot your results\n",
    "\n",
    "Again make sure that you record any valuable information. For example, in the tax scenario, did you find the sales from the first three months of the year to be a good predictor of the total sales for the year? Plot the predictions versus the true values and discuss the successes and limitations of your models"
   ]
  },
  {
   "cell_type": "code",
   "execution_count": null,
   "metadata": {
    "collapsed": true
   },
   "outputs": [],
   "source": []
  },
  {
   "cell_type": "markdown",
   "metadata": {},
   "source": [
    "# Present the Results\n",
    "\n",
    "Present your conclusions and results. If you have more than one interesting model feel free to include more than one along with a discussion. Use your work in this notebook to prepare your write-up."
   ]
  },
  {
   "cell_type": "code",
   "execution_count": null,
   "metadata": {
    "collapsed": true
   },
   "outputs": [],
   "source": [
    "Through this data analysis the most reliable way to predict sales is by county number. However, with all the data it\n",
    "seems as though the higher the true value for sales the more error there was for the predicted values. "
   ]
  }
 ],
 "metadata": {
  "kernelspec": {
   "display_name": "Python 2",
   "language": "python",
   "name": "python2"
  },
  "language_info": {
   "codemirror_mode": {
    "name": "ipython",
    "version": 2
   },
   "file_extension": ".py",
   "mimetype": "text/x-python",
   "name": "python",
   "nbconvert_exporter": "python",
   "pygments_lexer": "ipython2",
   "version": "2.7.12"
  }
 },
 "nbformat": 4,
 "nbformat_minor": 0
}
