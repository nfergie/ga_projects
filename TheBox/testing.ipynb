{
 "cells": [
  {
   "cell_type": "code",
   "execution_count": 1,
   "metadata": {
    "collapsed": false
   },
   "outputs": [],
   "source": [
    "import Tkinter, Tkconstants, tkFileDialog\n",
    "import pandas as pd\n",
    "\n",
    "class TkFileDialogExample(Tkinter.Frame):\n",
    "\n",
    "  def __init__(self, root):\n",
    "\n",
    "    Tkinter.Frame.__init__(self, root)\n",
    "\n",
    "    # options for buttons\n",
    "    button_opt = {'fill': Tkconstants.BOTH, 'padx': 5, 'pady': 5}\n",
    "\n",
    "    # define buttons\n",
    "    Tkinter.Button(self, text='Choose File', command=self.askopenfilename).pack(**button_opt)\n",
    "\n",
    "    # define options for opening or saving a file\n",
    "    self.file_opt = options = {}\n",
    "    options['defaultextension'] = '.txt'\n",
    "    options['filetypes'] = [('all files', '.*'), ('csv files', '.csv')]\n",
    "    options['initialdir'] = 'C:\\\\'\n",
    "    options['initialfile'] = 'myfile.txt'\n",
    "    options['parent'] = root\n",
    "    options['title'] = 'This is a title'\n",
    "\n",
    "    # This is only available on the Macintosh, and only when Navigation Services are installed.\n",
    "    #options['message'] = 'message'\n",
    "\n",
    "    # if you use the multiple file version of the module functions this option is set automatically.\n",
    "    #options['multiple'] = 1\n",
    "\n",
    "    # defining options for opening a directory\n",
    "    self.dir_opt = options = {}\n",
    "    options['initialdir'] = 'C:\\\\'\n",
    "    options['mustexist'] = False\n",
    "    options['parent'] = root\n",
    "    options['title'] = 'This is a title'\n",
    "\n",
    "  def askopenfilename(self):\n",
    "\n",
    "    \"\"\"Returns an opened file in read mode.\n",
    "    This time the dialog just returns a filename and the file is opened by your own code.\n",
    "    \"\"\"\n",
    "\n",
    "    # get filename\n",
    "    filename = tkFileDialog.askopenfilename(**self.file_opt)\n",
    "\n",
    "    # open file on your own\n",
    "    if filename:\n",
    "      return filename\n",
    "\n",
    "if __name__=='__main__':\n",
    "  root = Tkinter.Tk()\n",
    "  TkFileDialogExample(root).pack()\n",
    "  root.mainloop()"
   ]
  },
  {
   "cell_type": "code",
   "execution_count": 1,
   "metadata": {
    "collapsed": false
   },
   "outputs": [
    {
     "name": "stdout",
     "output_type": "stream",
     "text": [
      "Single Click, Button-l\n",
      "Single Click, Button-l\n",
      "Single Click, Button-l\n",
      "Single Click, Button-l\n",
      "Double Click, so let's stop\n"
     ]
    },
    {
     "ename": "SystemExit",
     "evalue": "",
     "output_type": "error",
     "traceback": [
      "An exception has occurred, use %tb to see the full traceback.\n",
      "\u001b[0;31mSystemExit\u001b[0m\n"
     ]
    },
    {
     "name": "stderr",
     "output_type": "stream",
     "text": [
      "To exit: use 'exit', 'quit', or Ctrl-D.\n"
     ]
    }
   ],
   "source": [
    "#!/usr/bin/python3\n",
    "# write tkinter as Tkinter to be Python 2.x compatible\n",
    "from tkinter import *\n",
    "def hello(event):\n",
    "    print(\"Single Click, Button-l\") \n",
    "def quit(event):                           \n",
    "    print(\"Double Click, so let's stop\") \n",
    "    import sys; sys.exit() \n",
    "\n",
    "widget = Button(None, text='Mouse Clicks')\n",
    "widget.pack()\n",
    "widget.bind('<Button-1>', hello)\n",
    "widget.bind('<Double-1>', quit) \n",
    "widget.mainloop()"
   ]
  },
  {
   "cell_type": "code",
   "execution_count": null,
   "metadata": {
    "collapsed": true
   },
   "outputs": [],
   "source": []
  }
 ],
 "metadata": {
  "kernelspec": {
   "display_name": "Python 2",
   "language": "python",
   "name": "python2"
  },
  "language_info": {
   "codemirror_mode": {
    "name": "ipython",
    "version": 2
   },
   "file_extension": ".py",
   "mimetype": "text/x-python",
   "name": "python",
   "nbconvert_exporter": "python",
   "pygments_lexer": "ipython2",
   "version": "2.7.11"
  }
 },
 "nbformat": 4,
 "nbformat_minor": 0
}
